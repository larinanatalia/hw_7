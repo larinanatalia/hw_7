{
 "cells": [
  {
   "cell_type": "code",
   "execution_count": 7,
   "metadata": {},
   "outputs": [
    {
     "name": "stdout",
     "output_type": "stream",
     "text": [
      "{'Омлет': [{'ingredient_name': 'Яйцо', 'quantity': '2', 'measure': 'шт'}, {'ingredient_name': 'Молоко', 'quantity': '100', 'measure': 'мл'}, {'ingredient_name': 'Помидор', 'quantity': '2', 'measure': 'шт'}], 'Утка по-пекински': [{'ingredient_name': 'Утка', 'quantity': '1', 'measure': 'шт'}, {'ingredient_name': 'Вода', 'quantity': '2', 'measure': 'л'}, {'ingredient_name': 'Мед', 'quantity': '3', 'measure': 'ст.л'}, {'ingredient_name': 'Соевый соус', 'quantity': '60', 'measure': 'мл'}], 'Запеченный картофель': [{'ingredient_name': 'Картофель', 'quantity': '1', 'measure': 'кг'}, {'ingredient_name': 'Чеснок', 'quantity': '3', 'measure': 'зубч'}, {'ingredient_name': 'Сыр гауда', 'quantity': '100', 'measure': 'г'}], 'Фахитос': [{'ingredient_name': 'Говядина', 'quantity': '500', 'measure': 'г'}, {'ingredient_name': 'Перец сладкий', 'quantity': '1', 'measure': 'шт'}, {'ingredient_name': 'Лаваш', 'quantity': '2', 'measure': 'шт'}, {'ingredient_name': 'Винный уксус', 'quantity': '1', 'measure': 'ст.л'}, {'ingredient_name': 'Помидор', 'quantity': '2', 'measure': 'шт'}]}\n"
     ]
    }
   ],
   "source": [
    "cook_book_test = dict()  \n",
    "with open('C:/Users/79035/Desktop/wh1/recipes.txt', 'r', encoding = 'utf-8') as f:\n",
    "    n = f.read()\n",
    "    text = n.split('\\n\\n')\n",
    "    for recipes in text:\n",
    "        recipes_list = recipes.split('\\n')\n",
    "        name_food = recipes_list[0:1:]\n",
    "        ingr = recipes_list[2::]\n",
    "        cook_book_test[name_food[0]] = ingr\n",
    "cook_book = {}    \n",
    "for key, value in cook_book_test.items():\n",
    "    new_list = []\n",
    "    for ingredients in value:\n",
    "        ingredients_list = ingredients.split(' | ')\n",
    "        new_dict = {}\n",
    "        new_dict['ingredient_name'] = ingredients_list[0]\n",
    "        new_dict['quantity'] = ingredients_list[1]\n",
    "        new_dict['measure'] = ingredients_list[2]\n",
    "        new_list.append(new_dict)\n",
    "    cook_book[key] = new_list\n",
    "print(cook_book)"
   ]
  }
 ],
 "metadata": {
  "kernelspec": {
   "display_name": "Python 3",
   "language": "python",
   "name": "python3"
  },
  "language_info": {
   "codemirror_mode": {
    "name": "ipython",
    "version": 3
   },
   "file_extension": ".py",
   "mimetype": "text/x-python",
   "name": "python",
   "nbconvert_exporter": "python",
   "pygments_lexer": "ipython3",
   "version": "3.7.4"
  }
 },
 "nbformat": 4,
 "nbformat_minor": 2
}
